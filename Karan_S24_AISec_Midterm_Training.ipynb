{
  "cells": [
    {
      "cell_type": "markdown",
      "metadata": {
        "id": "esNWMzKrVuWc"
      },
      "source": [
        "**Revised on 3/5/2024: Changed source files**\n",
        "\n",
        "This is the skeleton code for Task 1 of the midterm project. The files that are downloaded in step 4 are based on the [Ember 2018 dataset](https://arxiv.org/abs/1804.04637), and contain the features (and corresponding labels) extracted from 1 million PE files, split into 80\\% training and 20\\% test datasets. The code used for for feature extraction is available [here](https://colab.research.google.com/drive/16q9bOlCmnTquPtVXVzxUj4ZY1ORp10R2?usp=sharing). However, the preprocessing and featurization process may take up to 3 hours on Google Colab. Hence, I recommend using the processed datasets (Step 4) to speed up your development.\n",
        "\n",
        "Also, note that there is a new optional step 8.5 - To speed up your experiments, you may want to sample the original dataset of 800k training samples and 200k test samples to smaller datasets.\n",
        "\n",
        "**Step 1:** Mount your Google Drive by clicking on \"Mount Drive\" in the Files section (panel to the left of this text.)\n",
        "\n",
        "**Step 2:** Go to Runtime -> Change runtime type and select T4 GPU.\n",
        "\n",
        "**Step 3:** Create a folder in your Google Drive, and rename it to \"vMalConv\"\n",
        "\n",
        "**Step 4:** Download the pre-processed training and test datasets."
      ]
    },
    {
      "cell_type": "code",
      "execution_count": null,
      "metadata": {
        "colab": {
          "background_save": true,
          "base_uri": "https://localhost:8080/"
        },
        "id": "eUq_FZwmZegw",
        "outputId": "b8402375-6666-4849-e0bc-dce39163314f"
      },
      "outputs": [
        {
          "name": "stdout",
          "output_type": "stream",
          "text": [
            "--2024-04-03 05:52:08--  https://dsci6015s24-midterm.s3.amazonaws.com/v2/X_train.dat\n",
            "Resolving dsci6015s24-midterm.s3.amazonaws.com (dsci6015s24-midterm.s3.amazonaws.com)... 52.216.139.19, 52.216.112.11, 52.217.122.153, ...\n",
            "Connecting to dsci6015s24-midterm.s3.amazonaws.com (dsci6015s24-midterm.s3.amazonaws.com)|52.216.139.19|:443... connected.\n",
            "HTTP request sent, awaiting response... 200 OK\n",
            "Length: 7619200000 (7.1G) [binary/octet-stream]\n",
            "Saving to: ‘X_train.dat.1’\n",
            "\n",
            "X_train.dat.1       100%[===================>]   7.10G  11.8MB/s    in 9m 47s  \n",
            "\n",
            "2024-04-03 06:01:56 (12.4 MB/s) - ‘X_train.dat.1’ saved [7619200000/7619200000]\n",
            "\n",
            "--2024-04-03 06:01:57--  https://dsci6015s24-midterm.s3.amazonaws.com/v2/X_test.dat\n",
            "Resolving dsci6015s24-midterm.s3.amazonaws.com (dsci6015s24-midterm.s3.amazonaws.com)... 52.217.169.217, 52.216.36.201, 54.231.160.233, ...\n",
            "Connecting to dsci6015s24-midterm.s3.amazonaws.com (dsci6015s24-midterm.s3.amazonaws.com)|52.217.169.217|:443... connected.\n",
            "HTTP request sent, awaiting response... 200 OK\n",
            "Length: 1904800000 (1.8G) [binary/octet-stream]\n",
            "Saving to: ‘X_test.dat.1’\n",
            "\n",
            "X_test.dat.1        100%[===================>]   1.77G  12.4MB/s    in 2m 45s  \n",
            "\n",
            "2024-04-03 06:04:43 (11.0 MB/s) - ‘X_test.dat.1’ saved [1904800000/1904800000]\n",
            "\n",
            "--2024-04-03 06:04:43--  https://dsci6015s24-midterm.s3.amazonaws.com/v2/y_train.dat\n",
            "Resolving dsci6015s24-midterm.s3.amazonaws.com (dsci6015s24-midterm.s3.amazonaws.com)... 52.217.235.97, 3.5.28.44, 3.5.28.60, ...\n",
            "Connecting to dsci6015s24-midterm.s3.amazonaws.com (dsci6015s24-midterm.s3.amazonaws.com)|52.217.235.97|:443... connected.\n",
            "HTTP request sent, awaiting response... 200 OK\n",
            "Length: 3200000 (3.1M) [binary/octet-stream]\n",
            "Saving to: ‘y_train.dat.1’\n",
            "\n",
            "y_train.dat.1       100%[===================>]   3.05M   827KB/s    in 3.8s    \n",
            "\n",
            "2024-04-03 06:04:48 (827 KB/s) - ‘y_train.dat.1’ saved [3200000/3200000]\n",
            "\n",
            "--2024-04-03 06:04:48--  https://dsci6015s24-midterm.s3.amazonaws.com/v2/y_test.dat\n",
            "Resolving dsci6015s24-midterm.s3.amazonaws.com (dsci6015s24-midterm.s3.amazonaws.com)... 3.5.25.93, 52.216.177.203, 3.5.0.204, ...\n",
            "Connecting to dsci6015s24-midterm.s3.amazonaws.com (dsci6015s24-midterm.s3.amazonaws.com)|3.5.25.93|:443... connected.\n",
            "HTTP request sent, awaiting response... 200 OK\n",
            "Length: 800000 (781K) [binary/octet-stream]\n",
            "Saving to: ‘y_test.dat.1’\n",
            "\n",
            "y_test.dat.1        100%[===================>] 781.25K   585KB/s    in 1.3s    \n",
            "\n",
            "2024-04-03 06:04:50 (585 KB/s) - ‘y_test.dat.1’ saved [800000/800000]\n",
            "\n",
            "--2024-04-03 06:04:50--  https://dsci6015s24-midterm.s3.amazonaws.com/v2/metadata.csv\n",
            "Resolving dsci6015s24-midterm.s3.amazonaws.com (dsci6015s24-midterm.s3.amazonaws.com)... 3.5.25.93, 52.216.177.203, 3.5.0.204, ...\n",
            "Connecting to dsci6015s24-midterm.s3.amazonaws.com (dsci6015s24-midterm.s3.amazonaws.com)|3.5.25.93|:443... connected.\n",
            "HTTP request sent, awaiting response... 200 OK\n",
            "Length: 92160330 (88M) [text/csv]\n",
            "Saving to: ‘metadata.csv.1’\n",
            "\n",
            "metadata.csv.1      100%[===================>]  87.89M  10.6MB/s    in 18s     \n",
            "\n",
            "2024-04-03 06:05:10 (4.76 MB/s) - ‘metadata.csv.1’ saved [92160330/92160330]\n",
            "\n"
          ]
        }
      ],
      "source": [
        "# ~8GB\n",
        "!wget https://dsci6015s24-midterm.s3.amazonaws.com/v2/X_train.dat\n",
        "!wget https://dsci6015s24-midterm.s3.amazonaws.com/v2/X_test.dat\n",
        "!wget https://dsci6015s24-midterm.s3.amazonaws.com/v2/y_train.dat\n",
        "!wget https://dsci6015s24-midterm.s3.amazonaws.com/v2/y_test.dat\n",
        "!wget https://dsci6015s24-midterm.s3.amazonaws.com/v2/metadata.csv"
      ]
    },
    {
      "cell_type": "code",
      "execution_count": null,
      "metadata": {
        "colab": {
          "base_uri": "https://localhost:8080/"
        },
        "id": "AQ_JdZKfG7Q-",
        "outputId": "e45c00d9-030a-4b41-97b7-f57d89ca4676"
      },
      "outputs": [
        {
          "output_type": "stream",
          "name": "stdout",
          "text": [
            "Mounted at /content/drive\n"
          ]
        }
      ],
      "source": [
        "from google.colab import drive\n",
        "drive.mount('/content/drive')"
      ]
    },
    {
      "cell_type": "markdown",
      "metadata": {
        "id": "9V958PbDW3H0"
      },
      "source": [
        "**Step 5:** Copy the downloaded files to vMalConv"
      ]
    },
    {
      "cell_type": "code",
      "execution_count": null,
      "metadata": {
        "colab": {
          "base_uri": "https://localhost:8080/"
        },
        "id": "Ascmj_dhGlPx",
        "outputId": "618d4e0e-1bb4-42e4-e9ba-6f416c18c7b7"
      },
      "outputs": [
        {
          "output_type": "stream",
          "name": "stdout",
          "text": [
            "/content\n"
          ]
        }
      ],
      "source": [
        "%cd /content/"
      ]
    },
    {
      "cell_type": "code",
      "execution_count": null,
      "metadata": {
        "id": "llip77F3amma"
      },
      "outputs": [],
      "source": [
        "!cp /content/X_train.dat /content/drive/MyDrive/vMalConv/X_train.dat\n",
        "!cp /content/X_test.dat /content/drive/MyDrive/vMalConv/X_test.dat\n",
        "!cp /content/y_train.dat /content/drive/MyDrive/vMalConv/y_train.dat\n",
        "!cp /content/y_test.dat /content/drive/MyDrive/vMalConv/y_test.dat\n",
        "!cp /content/metadata.csv /content/drive/MyDrive/vMalConv/metadata.csv"
      ]
    },
    {
      "cell_type": "markdown",
      "metadata": {
        "id": "QbRilyqTXnrE"
      },
      "source": [
        "**Step 6:** Download and install Ember:"
      ]
    },
    {
      "cell_type": "code",
      "execution_count": null,
      "metadata": {
        "colab": {
          "base_uri": "https://localhost:8080/"
        },
        "id": "76bc7PEmlwKB",
        "outputId": "06b547d1-8909-46d4-b0c7-53a5e3964c76"
      },
      "outputs": [
        {
          "output_type": "stream",
          "name": "stdout",
          "text": [
            "Collecting git+https://github.com/PFGimenez/ember.git\n",
            "  Cloning https://github.com/PFGimenez/ember.git to /tmp/pip-req-build-6ytfmhu7\n",
            "  Running command git clone --filter=blob:none --quiet https://github.com/PFGimenez/ember.git /tmp/pip-req-build-6ytfmhu7\n",
            "  Resolved https://github.com/PFGimenez/ember.git to commit 3b82fe63069884882e743af725d29cc2a67859f1\n",
            "  Preparing metadata (setup.py) ... \u001b[?25l\u001b[?25hdone\n",
            "Building wheels for collected packages: ember\n",
            "  Building wheel for ember (setup.py) ... \u001b[?25l\u001b[?25hdone\n",
            "  Created wheel for ember: filename=ember-0.1.0-py3-none-any.whl size=13050 sha256=4a89a168173c17b18b6de7040fa5fb09775d33eac4543cd743a0e250a4c00cdb\n",
            "  Stored in directory: /tmp/pip-ephem-wheel-cache-ai9s8igg/wheels/8f/69/f9/1917c8df03b25fe53e8e2f6cb2c9f61a43dec179b19b10ab9f\n",
            "Successfully built ember\n",
            "Installing collected packages: ember\n",
            "Successfully installed ember-0.1.0\n"
          ]
        }
      ],
      "source": [
        "!pip install git+https://github.com/PFGimenez/ember.git"
      ]
    },
    {
      "cell_type": "code",
      "execution_count": null,
      "metadata": {
        "colab": {
          "base_uri": "https://localhost:8080/"
        },
        "id": "8aRVMSwCQT7D",
        "outputId": "a2175820-201e-4fe8-b4ad-f239600acf13"
      },
      "outputs": [
        {
          "output_type": "stream",
          "name": "stdout",
          "text": [
            "Collecting lief\n",
            "  Downloading lief-0.14.1-cp310-cp310-manylinux_2_28_x86_64.manylinux_2_27_x86_64.whl (2.7 MB)\n",
            "\u001b[?25l     \u001b[90m━━━━━━━━━━━━━━━━━━━━━━━━━━━━━━━━━━━━━━━━\u001b[0m \u001b[32m0.0/2.7 MB\u001b[0m \u001b[31m?\u001b[0m eta \u001b[36m-:--:--\u001b[0m\r\u001b[2K     \u001b[91m━━━\u001b[0m\u001b[90m╺\u001b[0m\u001b[90m━━━━━━━━━━━━━━━━━━━━━━━━━━━━━━━━━━━━\u001b[0m \u001b[32m0.2/2.7 MB\u001b[0m \u001b[31m7.0 MB/s\u001b[0m eta \u001b[36m0:00:01\u001b[0m\r\u001b[2K     \u001b[91m━━━━━━━━━━━━━━━━━━━━━━━━━━━\u001b[0m\u001b[90m╺\u001b[0m\u001b[90m━━━━━━━━━━━━\u001b[0m \u001b[32m1.8/2.7 MB\u001b[0m \u001b[31m26.6 MB/s\u001b[0m eta \u001b[36m0:00:01\u001b[0m\r\u001b[2K     \u001b[90m━━━━━━━━━━━━━━━━━━━━━━━━━━━━━━━━━━━━━━━━\u001b[0m \u001b[32m2.7/2.7 MB\u001b[0m \u001b[31m28.4 MB/s\u001b[0m eta \u001b[36m0:00:00\u001b[0m\n",
            "\u001b[?25hInstalling collected packages: lief\n",
            "Successfully installed lief-0.14.1\n"
          ]
        }
      ],
      "source": [
        "!pip install lief"
      ]
    },
    {
      "cell_type": "markdown",
      "metadata": {
        "id": "AXym5qd8Yv8f"
      },
      "source": [
        "**Step 7:** Read vectorized features from the data files."
      ]
    },
    {
      "cell_type": "code",
      "execution_count": null,
      "metadata": {
        "colab": {
          "base_uri": "https://localhost:8080/"
        },
        "id": "GfcHyoTsmCFH",
        "outputId": "f7c15f3a-4053-4297-8e36-006b1a56ba86"
      },
      "outputs": [
        {
          "output_type": "stream",
          "name": "stdout",
          "text": [
            "WARNING: EMBER feature version 2 were computed using lief version 0.9.0-\n",
            "WARNING:   lief version 0.14.1-bae887e0 found instead. There may be slight inconsistencies\n",
            "WARNING:   in the feature calculations.\n"
          ]
        }
      ],
      "source": [
        "import ember\n",
        "X_train, y_train, X_test, y_test = ember.read_vectorized_features(\"drive/MyDrive/vMalConv/\")\n",
        "metadata_dataframe = ember.read_metadata(\"drive/MyDrive/vMalConv/\")"
      ]
    },
    {
      "cell_type": "markdown",
      "metadata": {
        "id": "FTRCz7m7Z7EH"
      },
      "source": [
        "**Step 8:** Get rid of rows with no labels."
      ]
    },
    {
      "cell_type": "code",
      "execution_count": null,
      "metadata": {
        "colab": {
          "base_uri": "https://localhost:8080/"
        },
        "id": "FfH_T17mgfA7",
        "outputId": "48bc2603-31a6-4fdf-bf9f-059f330f014f"
      },
      "outputs": [
        {
          "name": "stdout",
          "output_type": "stream",
          "text": [
            "Drive already mounted at /content/drive; to attempt to forcibly remount, call drive.mount(\"/content/drive\", force_remount=True).\n",
            "/content/drive/MyDrive/vMalConv\n",
            "WARNING: EMBER feature version 2 were computed using lief version 0.9.0-\n",
            "WARNING:   lief version 0.14.1-bae887e0 found instead. There may be slight inconsistencies\n",
            "WARNING:   in the feature calculations.\n"
          ]
        }
      ],
      "source": [
        "# prompt: read X_train, X_test, y_train y_test from drive\n",
        "\n",
        "# Mount your Google Drive\n",
        "drive.mount('/content/drive')\n",
        "\n",
        "# Change directory to Google Drive\n",
        "%cd /content/drive/MyDrive/vMalConv\n",
        "\n",
        "# Read vectorized features from the data files.\n",
        "X_train, y_train, X_test, y_test = ember.read_vectorized_features(\".\")\n",
        "metadata_dataframe = ember.read_metadata(\".\")\n"
      ]
    },
    {
      "cell_type": "code",
      "execution_count": null,
      "metadata": {
        "id": "Zj63lcvin44q"
      },
      "outputs": [],
      "source": [
        "labelrows = (y_train != -1)\n",
        "X_train = X_train[labelrows]\n",
        "y_train = y_train[labelrows]"
      ]
    },
    {
      "cell_type": "code",
      "execution_count": null,
      "metadata": {
        "id": "mVG59AGooyC5"
      },
      "outputs": [],
      "source": [
        "import h5py\n",
        "h5f = h5py.File('X_train.h5', 'w')\n",
        "h5f.create_dataset('X_train', data=X_train)\n",
        "h5f.close()\n",
        "h5f = h5py.File('y_train.h5', 'w')\n",
        "h5f.create_dataset('y_train', data=y_train)\n",
        "h5f.close()"
      ]
    },
    {
      "cell_type": "code",
      "execution_count": null,
      "metadata": {
        "id": "5tmUIJNvpZch"
      },
      "outputs": [],
      "source": [
        "!cp /content/X_train.h5 /content/drive/MyDrive/vMalConv/X_train.h5\n",
        "!cp /content/y_train.h5 /content/drive/MyDrive/vMalConv/y_train.h5"
      ]
    },
    {
      "cell_type": "markdown",
      "metadata": {
        "id": "tKoXSzp59RN-"
      },
      "source": [
        "**Optional Step 8.5:** To speed up your experiments, you may want to sample the original dataset of 800k training samples and 200k test samples to smaller datasets. You can use the [Pandas Dataframe sample() method](https://pandas.pydata.org/pandas-docs/stable/reference/api/pandas.DataFrame.sample.html), or come up with your own sampling methodology. Be mindful of the fact that the database is heavily imbalanced."
      ]
    },
    {
      "cell_type": "code",
      "execution_count": null,
      "metadata": {
        "id": "-X9wwv_n9QkY"
      },
      "outputs": [],
      "source": [
        "#optional\n"
      ]
    },
    {
      "cell_type": "markdown",
      "metadata": {
        "id": "F1bRlBWlaQdd"
      },
      "source": [
        "> **Task 1:** Complete the following code to build the architecture of MalConv in PyTorch:"
      ]
    },
    {
      "cell_type": "code",
      "execution_count": null,
      "metadata": {
        "colab": {
          "base_uri": "https://localhost:8080/"
        },
        "id": "GOBQf3-O4VR1",
        "outputId": "1d2ea4d2-b65e-46d6-dc16-823b5031cb8b"
      },
      "outputs": [
        {
          "output_type": "stream",
          "name": "stdout",
          "text": [
            "MalConv(\n",
            "  (embed): Embedding(257, 8)\n",
            "  (conv1): Conv1d(8, 128, kernel_size=(16,), stride=(16,))\n",
            "  (conv2): Conv1d(128, 128, kernel_size=(16,), stride=(16,))\n",
            "  (fc1): Linear(in_features=128, out_features=128, bias=True)\n",
            "  (fc2): Linear(in_features=128, out_features=1, bias=True)\n",
            "  (relu): ReLU()\n",
            "  (sigmoid): Sigmoid()\n",
            ")\n",
            "tensor([[0.5400],\n",
            "        [0.5336],\n",
            "        [0.5338],\n",
            "        [0.5332]], grad_fn=<SigmoidBackward0>)\n"
          ]
        }
      ],
      "source": [
        "import torch\n",
        "import torch.nn as nn\n",
        "\n",
        "class MalConv(nn.Module):\n",
        "    def __init__(self, input_length=2000000, embedding_dim=8, window_size=16, output_dim=1):\n",
        "        super(MalConv, self).__init__()\n",
        "        self.embed = nn.Embedding(257, embedding_dim)  # 256 unique bytes, embedding dimension\n",
        "        self.conv1 = nn.Conv1d(in_channels=embedding_dim, out_channels=128, kernel_size=window_size, stride=window_size, bias=True)\n",
        "        self.conv2 = nn.Conv1d(in_channels=128, out_channels=128, kernel_size=window_size, stride=window_size, bias=True)\n",
        "        self.fc1 = nn.Linear(128, 128)\n",
        "        self.fc2 = nn.Linear(128, output_dim)\n",
        "        self.relu = nn.ReLU()\n",
        "        self.sigmoid = nn.Sigmoid()\n",
        "\n",
        "    def forward(self, x):\n",
        "        x = self.embed(x.clamp(min=0,max=256))\n",
        "        x = x.transpose(1, 2)  # Conv1d expects (batch_size, channels, length)\n",
        "        x = self.relu(self.conv1(x))\n",
        "        x = self.relu(self.conv2(x))\n",
        "        x = nn.functional.max_pool1d(x, kernel_size=x.size(2))  # Global max pooling\n",
        "        x = x.squeeze(2)  # Remove singleton dimension\n",
        "        x = self.relu(self.fc1(x))\n",
        "        x = self.fc2(x)\n",
        "        x = self.sigmoid(x)\n",
        "        return x\n",
        "\n",
        "# Example of creating a MalConv model\n",
        "input_length = 2000000  # The fixed length for each input file\n",
        "model = MalConv(input_length=input_length)\n",
        "print(model)\n",
        "\n",
        "# Example input (a batch of byte sequences, padded or truncated to the fixed length)\n",
        "# For actual use, replace 'torch.randint' with your preprocessed byte sequence tensor\n",
        "example_input = torch.randint(0, 256, (4, input_length), dtype=torch.long)  # 4 examples, random data\n",
        "output = model(example_input)\n",
        "print(output)  # The output probabilities for each example\n"
      ]
    },
    {
      "cell_type": "code",
      "execution_count": null,
      "metadata": {
        "id": "GRwChgyUDF3b"
      },
      "outputs": [],
      "source": [
        "X_train = X_train[:20000]\n",
        "y_train = y_train[:20000]"
      ]
    },
    {
      "cell_type": "markdown",
      "metadata": {
        "id": "pihnLcFmbaet"
      },
      "source": [
        "**Step 8:** Partial fit the standardScaler to avoid overloading the memory:"
      ]
    },
    {
      "cell_type": "code",
      "execution_count": null,
      "metadata": {
        "id": "H4q5OfK9v9iN"
      },
      "outputs": [],
      "source": [
        "from sklearn.preprocessing import StandardScaler\n",
        "mms = StandardScaler()\n",
        "for x in range(0,20000,1000):\n",
        "  mms.partial_fit(X_train[x:x+1000])"
      ]
    },
    {
      "cell_type": "code",
      "execution_count": null,
      "metadata": {
        "id": "B33Oa1sTxdB0"
      },
      "outputs": [],
      "source": [
        "X_train = mms.transform(X_train)"
      ]
    },
    {
      "cell_type": "code",
      "execution_count": null,
      "metadata": {
        "id": "V_vl5yrex0yY"
      },
      "outputs": [],
      "source": [
        "## Reshape to create 3 channels ##\n",
        "#import numpy as np\n",
        "#X_train = np.reshape(X_train,(-1,1,2381))\n",
        "#y_train = np.reshape(y_train,(-1,1,1))"
      ]
    },
    {
      "cell_type": "markdown",
      "metadata": {
        "id": "b1iRXFtuvCps"
      },
      "source": [
        "**Load, Tensorize, and Split** The following code takes care of converting the training data into Torch Tensors, and then splits it into 80% training and 20% validation datasets."
      ]
    },
    {
      "cell_type": "code",
      "execution_count": null,
      "metadata": {
        "id": "Ja3fhJI6qJKN"
      },
      "outputs": [],
      "source": [
        "import numpy as np\n",
        "import torch.optim as optim\n",
        "from torch.utils.data import DataLoader, TensorDataset\n",
        "from sklearn.model_selection import train_test_split\n",
        "\n",
        "# Assuming MalConv class definition is already provided as above\n",
        "\n",
        "# Convert your numpy arrays to PyTorch tensors\n",
        "X_train_tensor = torch.tensor(X_train, dtype=torch.long)\n",
        "y_train_tensor = torch.tensor(y_train, dtype=torch.float32)\n",
        "\n",
        "# Split the data into training and validation sets (80% training, 20% validation)\n",
        "X_train_split, X_val_split, y_train_split, y_val_split = train_test_split(\n",
        "    X_train_tensor, y_train_tensor, test_size=0.2, random_state=42\n",
        ")\n",
        "\n",
        "# Create TensorDatasets and DataLoaders for training and validation sets\n",
        "train_dataset = TensorDataset(X_train_split, y_train_split)\n",
        "val_dataset = TensorDataset(X_val_split, y_val_split)\n",
        "\n",
        "batch_size = 16  # Adjust based on your GPU memory\n",
        "train_loader = DataLoader(train_dataset, batch_size=batch_size, shuffle=True)\n",
        "val_loader = DataLoader(val_dataset, batch_size=batch_size, shuffle=False)\n",
        "\n",
        "\n"
      ]
    },
    {
      "cell_type": "markdown",
      "metadata": {
        "id": "2zMgth6McCqV"
      },
      "source": [
        "> **Task 2:** Complete the following code to train the model on the GPU for 15 epochs, with a batch size of 64. If you are on Google Colab, don't forget to change the kernel in Runtime -> Change runtime type -> T4 GPU."
      ]
    },
    {
      "cell_type": "code",
      "execution_count": null,
      "metadata": {
        "id": "MkdS0VI7lcdO",
        "colab": {
          "base_uri": "https://localhost:8080/"
        },
        "outputId": "95df4c8d-c7e3-41b5-8af2-7552fea5085d"
      },
      "outputs": [
        {
          "output_type": "stream",
          "name": "stdout",
          "text": [
            "Epoch 1, Training Loss: 2.0224985171295673e-22\n",
            "Validation Loss: 2.0224941454517572e-22\n",
            "Epoch 2, Training Loss: 2.0224985161198254e-22\n",
            "Validation Loss: 2.0224941454517572e-22\n",
            "Epoch 3, Training Loss: 2.0224985158673899e-22\n",
            "Validation Loss: 2.0224941454517572e-22\n",
            "Epoch 4, Training Loss: 2.0224985156149543e-22\n",
            "Validation Loss: 2.0224941454517572e-22\n",
            "Epoch 5, Training Loss: 2.0224985151100835e-22\n",
            "Validation Loss: 2.0224941454517572e-22\n",
            "Model checkpoint saved to drive/MyDrive/vMalConv/model_epoch_5.pt\n",
            "Epoch 6, Training Loss: 2.0224985166246965e-22\n",
            "Validation Loss: 2.0224941454517572e-22\n",
            "Epoch 7, Training Loss: 2.0224985173820028e-22\n",
            "Validation Loss: 2.0224941454517572e-22\n",
            "Epoch 8, Training Loss: 2.0224985149838657e-22\n",
            "Validation Loss: 2.0224941454517572e-22\n",
            "Epoch 9, Training Loss: 2.0224985196539224e-22\n",
            "Validation Loss: 2.0224941454517572e-22\n",
            "Epoch 10, Training Loss: 2.022498518391745e-22\n",
            "Validation Loss: 2.0224941454517572e-22\n",
            "Model checkpoint saved to drive/MyDrive/vMalConv/model_epoch_10.pt\n",
            "Epoch 11, Training Loss: 2.0224985154887368e-22\n",
            "Validation Loss: 2.0224941454517572e-22\n",
            "Epoch 12, Training Loss: 2.0224985156149543e-22\n",
            "Validation Loss: 2.0224941454517572e-22\n",
            "Epoch 13, Training Loss: 2.0224985156149543e-22\n",
            "Validation Loss: 2.0224941454517572e-22\n",
            "Epoch 14, Training Loss: 2.0224985176344383e-22\n",
            "Validation Loss: 2.0224941454517572e-22\n",
            "Epoch 15, Training Loss: 2.0224985134692528e-22\n",
            "Validation Loss: 2.0224941454517572e-22\n",
            "Model checkpoint saved to drive/MyDrive/vMalConv/model_epoch_15.pt\n"
          ]
        }
      ],
      "source": [
        "# prompt: Complete the following code to train the model on the GPU for 15 epochs, with a batch size of 64\n",
        "import torch\n",
        "import torch.nn as nn\n",
        "import torch.optim as optim\n",
        "import os\n",
        "# Training Loop with Validation\n",
        "num_epochs = 15  # Adjust the number of epochs as needed\n",
        "\n",
        "device = torch.device(\"cuda\" if torch.cuda.is_available() else \"cpu\")\n",
        "\n",
        "# Move the model to the GPU\n",
        "model.to(device)\n",
        "\n",
        "# Loss function and optimizer\n",
        "criterion = nn.BCELoss()  # Binary Cross-Entropy Loss for binary classification\n",
        "optimizer = optim.Adam(model.parameters(), lr=0.001)  # Adjust learning rate as needed\n",
        "\n",
        "# Directory to save model checkpoints\n",
        "save_dir = \"drive/MyDrive/vMalConv/\"\n",
        "\n",
        "\n",
        "\n",
        "for epoch in range(num_epochs):\n",
        "    model.train()  # Set model to training mode\n",
        "    running_loss = 0.0\n",
        "\n",
        "    for inputs, labels in train_loader:\n",
        "        inputs, labels = inputs.to(device), labels.to(device)\n",
        "\n",
        "\n",
        "        # Forward pass:\n",
        "        outputs = model(inputs)  # Pass inputs through model to get predictions\n",
        "\n",
        "        # Calculate loss:\n",
        "        loss = criterion(outputs.squeeze(), labels)  # Compute loss with squeezed outputs\n",
        "\n",
        "        # Backward pass and optimization:\n",
        "        optimizer.zero_grad()  # Clear gradients for the next iteration\n",
        "        loss.backward()  # Backpropagate loss\n",
        "        optimizer.step()  # Update model parameters\n",
        "\n",
        "\n",
        "\n",
        "        running_loss += loss.item()\n",
        "\n",
        "    print(f'Epoch {epoch+1}, Training Loss: {running_loss/len(train_loader)}')\n",
        "\n",
        "    # Validation step\n",
        "    model.eval()  # Set model to evaluation mode\n",
        "    val_loss = 0.0\n",
        "    with torch.no_grad():\n",
        "        for inputs, labels in val_loader:\n",
        "            inputs, labels = inputs.to(device), labels.to(device)\n",
        "            outputs = model(inputs)\n",
        "            loss = criterion(outputs.squeeze(), labels)\n",
        "            val_loss += loss.item()\n",
        "    print(f'Validation Loss: {val_loss/len(val_loader)}')\n",
        "\n",
        "    # Save checkpoint every 5 epochs\n",
        "    if (epoch + 1) % 5 == 0:\n",
        "        checkpoint_path = os.path.join(save_dir, f'model_epoch_{epoch+1}.pt')\n",
        "        torch.save(model.state_dict(), checkpoint_path)\n",
        "        print(f'Model checkpoint saved to {checkpoint_path}')\n",
        "\n"
      ]
    },
    {
      "cell_type": "markdown",
      "metadata": {
        "id": "obToo1WZtD4m"
      },
      "source": [
        "**Task 3:** Complete the following code to evaluate your trained model on the test data."
      ]
    },
    {
      "cell_type": "code",
      "execution_count": null,
      "metadata": {
        "id": "83wqvS9jqppe",
        "colab": {
          "base_uri": "https://localhost:8080/"
        },
        "outputId": "9d541fca-0498-4f2d-8764-623aed057711"
      },
      "outputs": [
        {
          "output_type": "stream",
          "name": "stdout",
          "text": [
            "Test Accuracy: 0.5000\n",
            "Precision: 0.0000\n",
            "Recall: 0.0000\n"
          ]
        },
        {
          "output_type": "stream",
          "name": "stderr",
          "text": [
            "/usr/local/lib/python3.10/dist-packages/sklearn/metrics/_classification.py:1344: UndefinedMetricWarning: Precision is ill-defined and being set to 0.0 due to no predicted samples. Use `zero_division` parameter to control this behavior.\n",
            "  _warn_prf(average, modifier, msg_start, len(result))\n"
          ]
        }
      ],
      "source": [
        "from sklearn.metrics import accuracy_score, precision_score, recall_score\n",
        "\n",
        "# Convert test data to PyTorch tensors\n",
        "X_test_tensor = torch.tensor(X_test, dtype=torch.long)\n",
        "y_test_tensor = torch.tensor(y_test, dtype=torch.float32)\n",
        "\n",
        "# Create a TensorDataset and DataLoader for test data\n",
        "test_dataset = TensorDataset(X_test_tensor, y_test_tensor)\n",
        "test_loader = DataLoader(test_dataset, batch_size=batch_size, shuffle=False)\n",
        "\n",
        "# Ensure the model is in evaluation mode\n",
        "model.eval()\n",
        "\n",
        "# Lists to store model predictions and actual labels\n",
        "predictions = []\n",
        "labels = []\n",
        "\n",
        "with torch.no_grad():\n",
        "    for inputs, labels_batch in test_loader:\n",
        "\n",
        "      # Move inputs to the appropriate device\n",
        "        inputs = inputs.to(device)\n",
        "        labels_batch = labels_batch.to(device)\n",
        "\n",
        "      # Forward pass\n",
        "        outputs = model(inputs)\n",
        "\n",
        "      # Convert logits to probabilities using sigmoid activation\n",
        "        probabilities = torch.sigmoid(outputs)\n",
        "\n",
        "      # Convert probabilities to binary predictions (0 or 1)\n",
        "        predicted = (probabilities > 0.5).float()\n",
        "\n",
        "      # Store predictions and labels\n",
        "        predictions.extend(predicted.cpu().numpy())\n",
        "        labels.extend(labels_batch.cpu().numpy())\n",
        "\n",
        "# Flatten nested arrays\n",
        "labels = np.array(labels).ravel()\n",
        "flat_predictions = np.array(predictions).ravel()\n",
        "\n",
        "# Compute metrics\n",
        "accuracy = accuracy_score(labels, flat_predictions)\n",
        "precision = precision_score(labels, flat_predictions)\n",
        "recall = recall_score(labels, flat_predictions)\n",
        "\n",
        "print(f'Test Accuracy: {accuracy:.4f}')\n",
        "print(f'Precision: {precision:.4f}')\n",
        "print(f'Recall: {recall:.4f}')\n"
      ]
    },
    {
      "cell_type": "code",
      "source": [
        "from sklearn.metrics import confusion_matrix\n",
        "import seaborn as sns\n",
        "import matplotlib.pyplot as plt\n",
        "\n",
        "# Compute confusion matrix\n",
        "cm = confusion_matrix(labels, flat_predictions)\n",
        "\n",
        "# Define labels for better interpretation\n",
        "labels = ['Negative', 'Positive']\n",
        "\n",
        "# Plot confusion matrix as heatmap with seaborn\n",
        "sns.heatmap(cm, annot=True, fmt='d', cmap='Blues', xticklabels=labels, yticklabels=labels)\n",
        "\n",
        "# Set labels and title\n",
        "plt.xlabel('Predicted Label')\n",
        "plt.ylabel('True Label')\n",
        "plt.title('Confusion Matrix')\n",
        "\n",
        "# Display the plot\n",
        "plt.show()"
      ],
      "metadata": {
        "colab": {
          "base_uri": "https://localhost:8080/",
          "height": 472
        },
        "id": "TWmR7dTZFKiI",
        "outputId": "e7c12ef1-db9c-45de-89ae-4d38440a40c0"
      },
      "execution_count": null,
      "outputs": [
        {
          "output_type": "display_data",
          "data": {
            "text/plain": [
              "<Figure size 640x480 with 2 Axes>"
            ],
            "image/png": "[encoded data removed]"
          },
          "metadata": {}
        }
      ]
    },
    {
      "cell_type": "code",
      "source": [
        "# Save the model\n",
        "torch.save(model.state_dict(), '/content/drive/MyDrive/vMalConv/my_model.pth')\n",
        "\n",
        "import numpy as np\n",
        "import torch\n",
        "import lief\n",
        "\n",
        "model = MalConv()\n",
        "model.load_state_dict(torch.load('/content/drive/MyDrive/vMalConv/my_model.pth'))\n",
        "model.eval()\n",
        "\n",
        "def testPE(pe_path):\n",
        "  # Load the PE file\n",
        "  try:\n",
        "    pe = lief.parse(pe_path)\n",
        "  except lief.read_error:\n",
        "    return \"Invalid PE file\"\n",
        "\n",
        "  # Extract Features\n",
        "  bytez = np.fromfile(pe_path, dtype=np.uint8)\n",
        "  if len(bytez) < 2000000:\n",
        "    bytez = np.pad(bytez, (0, 2000000 - len(bytez)), mode='constant')\n",
        "  features = torch.tensor(bytez[:2000000], dtype=torch.long).unsqueeze(0)\n",
        "\n",
        "  # Run the model on the features\n",
        "  with torch.no_grad():\n",
        "    output = model(features)\n",
        "\n",
        "  # Return the prediction\n",
        "  return \"Malware\" if output.item() > 0.5 else \"Benign\"\n",
        "\n",
        "  # Example usage\n",
        "file_path = \"/content/calc.exe\"\n",
        "prediction = testPE(file_path)\n",
        "print(f\"The file {file_path} is predicted as {prediction}\")"
      ],
      "metadata": {
        "colab": {
          "base_uri": "https://localhost:8080/"
        },
        "id": "hp39bN9vFnkA",
        "outputId": "82ad59e6-8cb8-4142-cb8b-a386d8524dba"
      },
      "execution_count": null,
      "outputs": [
        {
          "output_type": "stream",
          "name": "stderr",
          "text": [
            "Unable to find the section associated with BOUND_IMPORT\n"
          ]
        },
        {
          "output_type": "stream",
          "name": "stdout",
          "text": [
            "The file /content/calc.exe is predicted as Benign\n"
          ]
        }
      ]
    }
  ],
  "metadata": {
    "colab": {
      "machine_shape": "hm",
      "provenance": []
    },
    "kernelspec": {
      "display_name": "Python 3",
      "name": "python3"
    }
  },
  "nbformat": 4,
  "nbformat_minor": 0
}